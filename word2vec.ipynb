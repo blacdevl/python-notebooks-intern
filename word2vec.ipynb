{
  "cells": [
    {
      "cell_type": "markdown",
      "metadata": {
        "id": "view-in-github",
        "colab_type": "text"
      },
      "source": [
        "<a href=\"https://colab.research.google.com/github/blacdevl/python-notebooks-intern/blob/main/word2vec.ipynb\" target=\"_parent\"><img src=\"https://colab.research.google.com/assets/colab-badge.svg\" alt=\"Open In Colab\"/></a>"
      ]
    },
    {
      "cell_type": "code",
      "source": [
        "!pip install pyspark\n",
        "\n",
        "from pyspark.sql import SparkSession\n",
        "import pyspark.sql.functions as F\n",
        "from pyspark.ml.feature import Word2Vec"
      ],
      "metadata": {
        "colab": {
          "base_uri": "https://localhost:8080/"
        },
        "id": "YGP_125DxCgw",
        "outputId": "f2797ca1-e14c-405c-cb45-f29011763399"
      },
      "execution_count": 1,
      "outputs": [
        {
          "output_type": "stream",
          "name": "stdout",
          "text": [
            "Collecting pyspark\n",
            "  Downloading pyspark-3.5.1.tar.gz (317.0 MB)\n",
            "\u001b[2K     \u001b[90m━━━━━━━━━━━━━━━━━━━━━━━━━━━━━━━━━━━━━━━━\u001b[0m \u001b[32m317.0/317.0 MB\u001b[0m \u001b[31m3.0 MB/s\u001b[0m eta \u001b[36m0:00:00\u001b[0m\n",
            "\u001b[?25h  Preparing metadata (setup.py) ... \u001b[?25l\u001b[?25hdone\n",
            "Requirement already satisfied: py4j==0.10.9.7 in /usr/local/lib/python3.10/dist-packages (from pyspark) (0.10.9.7)\n",
            "Building wheels for collected packages: pyspark\n",
            "  Building wheel for pyspark (setup.py) ... \u001b[?25l\u001b[?25hdone\n",
            "  Created wheel for pyspark: filename=pyspark-3.5.1-py2.py3-none-any.whl size=317488491 sha256=2df4eb9af9d42b929d23babc8e71f0ac33d0cd54315974b892e37e863a78e2c3\n",
            "  Stored in directory: /root/.cache/pip/wheels/80/1d/60/2c256ed38dddce2fdd93be545214a63e02fbd8d74fb0b7f3a6\n",
            "Successfully built pyspark\n",
            "Installing collected packages: pyspark\n",
            "Successfully installed pyspark-3.5.1\n"
          ]
        }
      ]
    },
    {
      "cell_type": "code",
      "source": [
        "!pip install kaggle"
      ],
      "metadata": {
        "colab": {
          "base_uri": "https://localhost:8080/"
        },
        "id": "4k7Mrb32zn6f",
        "outputId": "32b11c4e-de79-439f-9aa4-07531ad90dd7"
      },
      "execution_count": 2,
      "outputs": [
        {
          "output_type": "stream",
          "name": "stdout",
          "text": [
            "Requirement already satisfied: kaggle in /usr/local/lib/python3.10/dist-packages (1.6.14)\n",
            "Requirement already satisfied: six>=1.10 in /usr/local/lib/python3.10/dist-packages (from kaggle) (1.16.0)\n",
            "Requirement already satisfied: certifi>=2023.7.22 in /usr/local/lib/python3.10/dist-packages (from kaggle) (2024.2.2)\n",
            "Requirement already satisfied: python-dateutil in /usr/local/lib/python3.10/dist-packages (from kaggle) (2.8.2)\n",
            "Requirement already satisfied: requests in /usr/local/lib/python3.10/dist-packages (from kaggle) (2.31.0)\n",
            "Requirement already satisfied: tqdm in /usr/local/lib/python3.10/dist-packages (from kaggle) (4.66.4)\n",
            "Requirement already satisfied: python-slugify in /usr/local/lib/python3.10/dist-packages (from kaggle) (8.0.4)\n",
            "Requirement already satisfied: urllib3 in /usr/local/lib/python3.10/dist-packages (from kaggle) (2.0.7)\n",
            "Requirement already satisfied: bleach in /usr/local/lib/python3.10/dist-packages (from kaggle) (6.1.0)\n",
            "Requirement already satisfied: webencodings in /usr/local/lib/python3.10/dist-packages (from bleach->kaggle) (0.5.1)\n",
            "Requirement already satisfied: text-unidecode>=1.3 in /usr/local/lib/python3.10/dist-packages (from python-slugify->kaggle) (1.3)\n",
            "Requirement already satisfied: charset-normalizer<4,>=2 in /usr/local/lib/python3.10/dist-packages (from requests->kaggle) (3.3.2)\n",
            "Requirement already satisfied: idna<4,>=2.5 in /usr/local/lib/python3.10/dist-packages (from requests->kaggle) (3.7)\n"
          ]
        }
      ]
    },
    {
      "cell_type": "code",
      "source": [
        "!chmod 600 kaggle.json"
      ],
      "metadata": {
        "colab": {
          "base_uri": "https://localhost:8080/"
        },
        "id": "aFNtVzQjz1yh",
        "outputId": "ac9ebad4-e960-4707-8f69-449129255c65"
      },
      "execution_count": 3,
      "outputs": [
        {
          "output_type": "stream",
          "name": "stdout",
          "text": [
            "chmod: cannot access 'kaggle.json': No such file or directory\n"
          ]
        }
      ]
    },
    {
      "cell_type": "code",
      "source": [
        "!kaggle datasets download -d quora/question-pairs-dataset\n",
        "\n",
        "import zipfile\n",
        "zip_ref = zipfile.ZipFile('question-pairs-dataset.zip', 'r')\n",
        "zip_ref.extractall()"
      ],
      "metadata": {
        "colab": {
          "base_uri": "https://localhost:8080/"
        },
        "id": "7qFOi3r80QpI",
        "outputId": "fa4d2af2-1085-419c-f31a-0a5928d04035"
      },
      "execution_count": 4,
      "outputs": [
        {
          "output_type": "stream",
          "name": "stdout",
          "text": [
            "Dataset URL: https://www.kaggle.com/datasets/quora/question-pairs-dataset\n",
            "License(s): other\n",
            "Downloading question-pairs-dataset.zip to /content\n",
            " 72% 15.0M/20.8M [00:00<00:00, 153MB/s]\n",
            "100% 20.8M/20.8M [00:00<00:00, 175MB/s]\n"
          ]
        }
      ]
    },
    {
      "cell_type": "code",
      "source": [
        "!pyspark --version\n",
        "spark = SparkSession.builder.appName('embeddings').getOrCreate()"
      ],
      "metadata": {
        "colab": {
          "base_uri": "https://localhost:8080/"
        },
        "id": "NmStp-I0CNRE",
        "outputId": "3e6cd2a8-525c-43d1-b41e-7adf76ceacb6"
      },
      "execution_count": 5,
      "outputs": [
        {
          "output_type": "stream",
          "name": "stdout",
          "text": [
            "Welcome to\n",
            "      ____              __\n",
            "     / __/__  ___ _____/ /__\n",
            "    _\\ \\/ _ \\/ _ `/ __/  '_/\n",
            "   /___/ .__/\\_,_/_/ /_/\\_\\   version 3.5.1\n",
            "      /_/\n",
            "                        \n",
            "Using Scala version 2.12.18, OpenJDK 64-Bit Server VM, 11.0.22\n",
            "Branch HEAD\n",
            "Compiled by user heartsavior on 2024-02-15T11:24:58Z\n",
            "Revision fd86f85e181fc2dc0f50a096855acf83a6cc5d9c\n",
            "Url https://github.com/apache/spark\n",
            "Type --help for more information.\n"
          ]
        }
      ]
    },
    {
      "cell_type": "code",
      "source": [
        "file_path = 'questions.csv'\n",
        "\n",
        "df = spark.read.csv(file_path, header=True, inferSchema=True)\n",
        "df.show(4)"
      ],
      "metadata": {
        "colab": {
          "base_uri": "https://localhost:8080/"
        },
        "id": "TcBE_4ue0om8",
        "outputId": "44763c3e-80c2-4eec-8c7e-9bb4614ea963"
      },
      "execution_count": 6,
      "outputs": [
        {
          "output_type": "stream",
          "name": "stdout",
          "text": [
            "+---+----+----+--------------------+--------------------+------------+\n",
            "| id|qid1|qid2|           question1|           question2|is_duplicate|\n",
            "+---+----+----+--------------------+--------------------+------------+\n",
            "|  0|   1|   2|What is the step ...|What is the step ...|           0|\n",
            "|  1|   3|   4|What is the story...|What would happen...|           0|\n",
            "|  2|   5|   6|How can I increas...|How can Internet ...|           0|\n",
            "|  3|   7|   8|Why am I mentally...|Find the remainde...|           0|\n",
            "+---+----+----+--------------------+--------------------+------------+\n",
            "only showing top 4 rows\n",
            "\n"
          ]
        }
      ]
    },
    {
      "cell_type": "code",
      "source": [
        "df_subset1 = df.select('question1').alias('text').na.drop()\n",
        "df_subset2 = df.select('question2').alias('text').na.drop()\n",
        "\n",
        "df_concat = df_subset1.union(df_subset2)\n",
        "\n",
        "df_concat = df_concat.withColumn(\"text\", F.split(\"question1\", \"\\\\s+\")).select(\"text\")\n",
        "\n",
        "# df_concat = df_concat.withColumn(\"text\",F.lower(\"question1\"))\n",
        "\n",
        "df_concat.show(4)\n",
        "df_concat.printSchema()\n",
        "\n",
        "\n",
        "\n",
        "df_concat = df_concat.limit(100000)\n",
        "\n",
        "print(\"size:\",df_concat.count())\n"
      ],
      "metadata": {
        "colab": {
          "base_uri": "https://localhost:8080/"
        },
        "id": "bTd4Q-EY1vnW",
        "outputId": "89e048b4-8a20-4bae-ae36-ea465efc7132"
      },
      "execution_count": 12,
      "outputs": [
        {
          "output_type": "stream",
          "name": "stdout",
          "text": [
            "+--------------------+\n",
            "|                text|\n",
            "+--------------------+\n",
            "|[What, is, the, s...|\n",
            "|[What, is, the, s...|\n",
            "|[How, can, I, inc...|\n",
            "|[Why, am, I, ment...|\n",
            "+--------------------+\n",
            "only showing top 4 rows\n",
            "\n",
            "root\n",
            " |-- text: array (nullable = true)\n",
            " |    |-- element: string (containsNull = false)\n",
            "\n",
            "size: 100000\n"
          ]
        }
      ]
    },
    {
      "cell_type": "code",
      "source": [
        "word2vec = Word2Vec(inputCol=\"text\", minCount=1, outputCol=\"result\",vectorSize=100)\n",
        "\n",
        "model = word2vec.fit(df_concat)\n",
        "result = model.transform(df_concat)\n",
        "result.show()"
      ],
      "metadata": {
        "colab": {
          "base_uri": "https://localhost:8080/"
        },
        "id": "aov3uQpq9WH7",
        "outputId": "7fd7b73a-3df9-42dd-f249-8e8a9307ee2d"
      },
      "execution_count": 13,
      "outputs": [
        {
          "output_type": "stream",
          "name": "stdout",
          "text": [
            "+--------------------+--------------------+\n",
            "|                text|              result|\n",
            "+--------------------+--------------------+\n",
            "|[What, is, the, s...|[-0.1542745852576...|\n",
            "|[What, is, the, s...|[0.00859365562064...|\n",
            "|[How, can, I, inc...|[-0.0053611522806...|\n",
            "|[Why, am, I, ment...|[0.04183747636323...|\n",
            "|[Which, one, diss...|[-0.0675903459509...|\n",
            "|[Astrology:, I, a...|[0.01175305555443...|\n",
            "|[Should, I, buy, ...|[-0.0678857872262...|\n",
            "|[How, can, I, be,...|[0.03511635842733...|\n",
            "|[When, do, you, u...|[0.01389584728167...|\n",
            "|[Motorola, (compa...|[0.01870118050525...|\n",
            "|[Method, to, find...|[0.03135813966380...|\n",
            "|[How, do, I, read...|[0.02046062300602...|\n",
            "|[What, can, make,...|[0.02567567410213...|\n",
            "|[What, was, your,...|[-0.0890916447554...|\n",
            "|[What, are, the, ...|[-0.1035135900340...|\n",
            "|[What, would, a, ...|[0.01424646216134...|\n",
            "|[What, does, mani...|[0.10364335286431...|\n",
            "|[Why, do, girls, ...|[0.00143174501135...|\n",
            "|[Why, are, so, ma...|[0.07948578169037...|\n",
            "|[Which, is, the, ...|[-0.2337496457104...|\n",
            "+--------------------+--------------------+\n",
            "only showing top 20 rows\n",
            "\n"
          ]
        }
      ]
    },
    {
      "cell_type": "code",
      "source": [
        "sentences = [\"Sun is bright\", \"Sun is hot\", \"How to make friends\", \"What should I do\"]\n",
        "\n",
        "try_df = spark.createDataFrame([(sentence,) for sentence in sentences],[\"text\"])\n",
        "\n",
        "try_df = try_df.withColumn(\"text\", F.split(\"text\", \"\\\\s+\")).select(\"text\")\n",
        "\n",
        "try_result = model.transform(try_df)\n",
        "\n",
        "try_result.show()\n",
        "\n",
        "\n"
      ],
      "metadata": {
        "colab": {
          "base_uri": "https://localhost:8080/"
        },
        "id": "ItYbpc_rEall",
        "outputId": "f3b1a1ef-15bd-4efa-c0f7-090eb061adc4"
      },
      "execution_count": 30,
      "outputs": [
        {
          "output_type": "stream",
          "name": "stdout",
          "text": [
            "+--------------------+--------------------+\n",
            "|                text|              result|\n",
            "+--------------------+--------------------+\n",
            "|   [Sun, is, bright]|[-0.1394819604853...|\n",
            "|      [Sun, is, hot]|[-0.1099189507464...|\n",
            "|[How, to, make, f...|[-0.0120532852597...|\n",
            "|[What, should, I,...|[0.02040313184261...|\n",
            "+--------------------+--------------------+\n",
            "\n"
          ]
        }
      ]
    },
    {
      "cell_type": "code",
      "source": [
        "from pyspark.ml.linalg import Vectors\n",
        "from pyspark.sql.types import DoubleType\n",
        "\n",
        "def cosine_similarity(v1, v2):\n",
        "    dot_product = float(v1.dot(v2))\n",
        "    norm_v1 = float(v1.norm(2))\n",
        "    norm_v2 = float(v2.norm(2))\n",
        "    return dot_product / (norm_v1 * norm_v2)\n",
        "\n",
        "cosine_similarity_udf = F.udf(cosine_similarity, DoubleType())\n",
        "\n",
        "test = try_result.toDF(\"text2\", \"result2\")\n",
        "\n",
        "test.show()\n",
        "ex_cross = try_result.crossJoin(test)\n",
        "\n",
        "ex_cross.show()\n",
        "print(ex_cross.count())\n",
        "# ex_cross = ex_cross.filter(F.col(\"text\") != F.col(\"text2\"))\n",
        "\n",
        "ex_cross = ex_cross.withColumn(\"cos_sim\", cosine_similarity_udf(F.col(\"result\"), F.col(\"result2\")))\n",
        "\n",
        "ex_cross.show()"
      ],
      "metadata": {
        "colab": {
          "base_uri": "https://localhost:8080/"
        },
        "id": "K4_ginOtHBCw",
        "outputId": "c0163828-d9ad-4400-8beb-664449ca07f1"
      },
      "execution_count": 31,
      "outputs": [
        {
          "output_type": "stream",
          "name": "stdout",
          "text": [
            "+--------------------+--------------------+\n",
            "|               text2|             result2|\n",
            "+--------------------+--------------------+\n",
            "|   [Sun, is, bright]|[-0.1394819604853...|\n",
            "|      [Sun, is, hot]|[-0.1099189507464...|\n",
            "|[How, to, make, f...|[-0.0120532852597...|\n",
            "|[What, should, I,...|[0.02040313184261...|\n",
            "+--------------------+--------------------+\n",
            "\n",
            "+--------------------+--------------------+--------------------+--------------------+\n",
            "|                text|              result|               text2|             result2|\n",
            "+--------------------+--------------------+--------------------+--------------------+\n",
            "|   [Sun, is, bright]|[-0.1394819604853...|   [Sun, is, bright]|[-0.1394819604853...|\n",
            "|   [Sun, is, bright]|[-0.1394819604853...|      [Sun, is, hot]|[-0.1099189507464...|\n",
            "|      [Sun, is, hot]|[-0.1099189507464...|   [Sun, is, bright]|[-0.1394819604853...|\n",
            "|      [Sun, is, hot]|[-0.1099189507464...|      [Sun, is, hot]|[-0.1099189507464...|\n",
            "|   [Sun, is, bright]|[-0.1394819604853...|[How, to, make, f...|[-0.0120532852597...|\n",
            "|   [Sun, is, bright]|[-0.1394819604853...|[What, should, I,...|[0.02040313184261...|\n",
            "|      [Sun, is, hot]|[-0.1099189507464...|[How, to, make, f...|[-0.0120532852597...|\n",
            "|      [Sun, is, hot]|[-0.1099189507464...|[What, should, I,...|[0.02040313184261...|\n",
            "|[How, to, make, f...|[-0.0120532852597...|   [Sun, is, bright]|[-0.1394819604853...|\n",
            "|[How, to, make, f...|[-0.0120532852597...|      [Sun, is, hot]|[-0.1099189507464...|\n",
            "|[What, should, I,...|[0.02040313184261...|   [Sun, is, bright]|[-0.1394819604853...|\n",
            "|[What, should, I,...|[0.02040313184261...|      [Sun, is, hot]|[-0.1099189507464...|\n",
            "|[How, to, make, f...|[-0.0120532852597...|[How, to, make, f...|[-0.0120532852597...|\n",
            "|[How, to, make, f...|[-0.0120532852597...|[What, should, I,...|[0.02040313184261...|\n",
            "|[What, should, I,...|[0.02040313184261...|[How, to, make, f...|[-0.0120532852597...|\n",
            "|[What, should, I,...|[0.02040313184261...|[What, should, I,...|[0.02040313184261...|\n",
            "+--------------------+--------------------+--------------------+--------------------+\n",
            "\n",
            "16\n",
            "+--------------------+--------------------+--------------------+--------------------+--------------------+\n",
            "|                text|              result|               text2|             result2|             cos_sim|\n",
            "+--------------------+--------------------+--------------------+--------------------+--------------------+\n",
            "|   [Sun, is, bright]|[-0.1394819604853...|   [Sun, is, bright]|[-0.1394819604853...|                 1.0|\n",
            "|   [Sun, is, bright]|[-0.1394819604853...|      [Sun, is, hot]|[-0.1099189507464...|  0.9755427809545504|\n",
            "|      [Sun, is, hot]|[-0.1099189507464...|   [Sun, is, bright]|[-0.1394819604853...|  0.9755427809545504|\n",
            "|      [Sun, is, hot]|[-0.1099189507464...|      [Sun, is, hot]|[-0.1099189507464...|  1.0000000000000002|\n",
            "|   [Sun, is, bright]|[-0.1394819604853...|[How, to, make, f...|[-0.0120532852597...|-0.18358393561164912|\n",
            "|   [Sun, is, bright]|[-0.1394819604853...|[What, should, I,...|[0.02040313184261...|-0.04247384304749...|\n",
            "|      [Sun, is, hot]|[-0.1099189507464...|[How, to, make, f...|[-0.0120532852597...|-0.15988436407524662|\n",
            "|      [Sun, is, hot]|[-0.1099189507464...|[What, should, I,...|[0.02040313184261...|-0.02414857740381463|\n",
            "|[How, to, make, f...|[-0.0120532852597...|   [Sun, is, bright]|[-0.1394819604853...|-0.18358393561164912|\n",
            "|[How, to, make, f...|[-0.0120532852597...|      [Sun, is, hot]|[-0.1099189507464...|-0.15988436407524662|\n",
            "|[What, should, I,...|[0.02040313184261...|   [Sun, is, bright]|[-0.1394819604853...|-0.04247384304749...|\n",
            "|[What, should, I,...|[0.02040313184261...|      [Sun, is, hot]|[-0.1099189507464...|-0.02414857740381463|\n",
            "|[How, to, make, f...|[-0.0120532852597...|[How, to, make, f...|[-0.0120532852597...|                 1.0|\n",
            "|[How, to, make, f...|[-0.0120532852597...|[What, should, I,...|[0.02040313184261...| 0.37246394788999954|\n",
            "|[What, should, I,...|[0.02040313184261...|[How, to, make, f...|[-0.0120532852597...| 0.37246394788999954|\n",
            "|[What, should, I,...|[0.02040313184261...|[What, should, I,...|[0.02040313184261...|  1.0000000000000002|\n",
            "+--------------------+--------------------+--------------------+--------------------+--------------------+\n",
            "\n"
          ]
        }
      ]
    }
  ],
  "metadata": {
    "colab": {
      "name": "Welcome to Colaboratory",
      "provenance": [],
      "gpuType": "T4",
      "include_colab_link": true
    },
    "kernelspec": {
      "display_name": "Python 3",
      "name": "python3"
    },
    "accelerator": "GPU"
  },
  "nbformat": 4,
  "nbformat_minor": 0
}